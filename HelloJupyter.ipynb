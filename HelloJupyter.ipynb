{
 "cells": [
  {
   "cell_type": "code",
   "execution_count": 3,
   "id": "9e34a541-5fb1-4dbf-9927-8a10db680e50",
   "metadata": {},
   "outputs": [
    {
     "name": "stdout",
     "output_type": "stream",
     "text": [
      "Hello Jupyter 내용변경\n"
     ]
    }
   ],
   "source": [
    "print('Hello Jupyter 내용변경')"
   ]
  },
  {
   "cell_type": "code",
   "execution_count": 7,
   "id": "09f871ef-bf91-4070-a62a-6cb84ebaaad4",
   "metadata": {},
   "outputs": [
    {
     "name": "stdout",
     "output_type": "stream",
     "text": [
      "ctrl + enter\n"
     ]
    }
   ],
   "source": [
    "print('ctrl + enter')\n",
    "# 현재 셀 실행하기. 셀의 이동은 없음"
   ]
  },
  {
   "cell_type": "code",
   "execution_count": 12,
   "id": "232b7ab2-ff74-465d-a510-bd77e94781c1",
   "metadata": {},
   "outputs": [
    {
     "name": "stdout",
     "output_type": "stream",
     "text": [
      "shift + enter\n"
     ]
    }
   ],
   "source": [
    "print('shift + enter')\n",
    "# 현재 셀 실행 후 다음 셀로 이동하기. 만약 다음 셀이 없다면 생성한다.\n",
    "# 다음 셀이 있다면 포커스만 이동한다."
   ]
  },
  {
   "cell_type": "code",
   "execution_count": 11,
   "id": "d785f520-ea6d-485c-a5e7-67611e2991f9",
   "metadata": {},
   "outputs": [
    {
     "name": "stdout",
     "output_type": "stream",
     "text": [
      "alt + enter\n"
     ]
    },
    {
     "data": {
      "text/plain": [
       "' 현재 셀을 실행한 후 다음에 셀을 생성한다. 만약 다음 셀이 있다면 중간에 \\n    새로운 셀을 삽입한다. '"
      ]
     },
     "execution_count": 11,
     "metadata": {},
     "output_type": "execute_result"
    }
   ],
   "source": [
    "print('alt + enter')\n",
    "\"\"\" 현재 셀을 실행한 후 다음에 셀을 생성한다. 만약 다음 셀이 있다면 중간에 \n",
    "    새로운 셀을 삽입한다. \"\"\""
   ]
  }
 ],
 "metadata": {
  "kernelspec": {
   "display_name": "Python 3 (ipykernel)",
   "language": "python",
   "name": "python3"
  },
  "language_info": {
   "codemirror_mode": {
    "name": "ipython",
    "version": 3
   },
   "file_extension": ".py",
   "mimetype": "text/x-python",
   "name": "python",
   "nbconvert_exporter": "python",
   "pygments_lexer": "ipython3",
   "version": "3.13.2"
  }
 },
 "nbformat": 4,
 "nbformat_minor": 5
}
