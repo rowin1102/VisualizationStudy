{
 "cells": [
  {
   "cell_type": "code",
   "execution_count": 19,
   "id": "d015fa39-baa1-43bc-acb8-88d2ed411751",
   "metadata": {},
   "outputs": [],
   "source": [
    "import pandas as pd"
   ]
  },
  {
   "cell_type": "code",
   "execution_count": 34,
   "id": "868e7e22-42f4-4ece-a1a7-d659fda72e06",
   "metadata": {
    "scrolled": true
   },
   "outputs": [],
   "source": [
    "df = pd.read_csv('../resData/서울특별시_07_24_04_P_일반음식점(utf-8).csv', low_memory=False)"
   ]
  },
  {
   "cell_type": "code",
   "execution_count": 35,
   "id": "577de670-c21d-44c4-8ee9-a02ee52e0f9f",
   "metadata": {},
   "outputs": [
    {
     "name": "stdout",
     "output_type": "stream",
     "text": [
      "Index(['번호', '개방서비스명', '개방서비스아이디', '개방자치단체코드', '관리번호', '인허가일자', '인허가취소일자',\n",
      "       '영업상태구분코드', '영업상태명', '상세영업상태코드', '상세영업상태명', '폐업일자', '휴업시작일자', '휴업종료일자',\n",
      "       '재개업일자', '소재지전화', '소재지면적', '소재지우편번호', '소재지전체주소', '도로명전체주소', '도로명우편번호',\n",
      "       '사업장명', '최종수정시점', '데이터갱신구분', '데이터갱신일자', '업태구분명', '좌표정보X(EPSG5174)',\n",
      "       '좌표정보Y(EPSG5174)', '위생업태명', '남성종사자수', '여성종사자수', '영업장주변구분명', '등급구분명',\n",
      "       '급수시설구분명', '총직원수', '본사직원수', '공장사무직직원수', '공장판매직직원수', '공장생산직직원수',\n",
      "       '건물소유구분명', '보증액', '월세액', '다중이용업소여부', '시설총규모', '전통업소지정번호', '전통업소주된음식',\n",
      "       '홈페이지'],\n",
      "      dtype='object')\n"
     ]
    }
   ],
   "source": [
    "print(df.columns)"
   ]
  },
  {
   "cell_type": "code",
   "execution_count": 38,
   "id": "2c6ef35b-d533-4b5c-b7a3-1e18ea524945",
   "metadata": {},
   "outputs": [
    {
     "name": "stdout",
     "output_type": "stream",
     "text": [
      "       업태구분명                                            소재지전체주소\n",
      "72375  호프/통닭                           서울특별시 광진구 자양동 607-10 1층 \n",
      "72393  호프/통닭                             서울특별시 광진구 화양동 1 건국대학교 \n",
      "72402  호프/통닭                              서울특별시 광진구 자양동 845-12 \n",
      "72408  호프/통닭                             서울특별시 광진구 중곡동 173-1번지 \n",
      "72421  호프/통닭                              서울특별시 광진구 자양동 624-23 \n",
      "...      ...                                                ...\n",
      "89984  호프/통닭                               서울특별시 광진구 자양동 13-40 \n",
      "89994  호프/통닭                              서울특별시 광진구 자양동 770-33 \n",
      "89995  호프/통닭  서울특별시 광진구 군자동 360-20 광진 동양파라곤 1단지 지하1층 제비101호주...\n",
      "90002  호프/통닭                              서울특별시 광진구 구의동 227-41 \n",
      "90031  호프/통닭                               서울특별시 광진구 화양동 24-11 \n",
      "\n",
      "[2248 rows x 2 columns]\n"
     ]
    }
   ],
   "source": [
    "new_df = df[\n",
    "    df['업태구분명'].str.contains('통닭', na=False) &\n",
    "    df['소재지전체주소'].str.contains('광진구', na=False)\n",
    "][['업태구분명', '소재지전체주소']]\n",
    "print(new_df)"
   ]
  },
  {
   "cell_type": "code",
   "execution_count": 39,
   "id": "f1b15c74-f2a9-46e0-8bc2-215f56f63583",
   "metadata": {},
   "outputs": [],
   "source": [
    "new_df.to_csv('../resData/치킨집가공.csv', index=False, encoding='utf-8')"
   ]
  },
  {
   "cell_type": "code",
   "execution_count": 40,
   "id": "6e6456d3-b0d9-4d1c-826f-23a0017f9b2a",
   "metadata": {},
   "outputs": [
    {
     "name": "stdout",
     "output_type": "stream",
     "text": [
      "        업태구분명                     소재지전체주소\n",
      "13      호프/통닭     서울특별시 종로구 낙원동 198 금강빌딩 \n",
      "19      호프/통닭         서울특별시 종로구 명륜2가 184 \n",
      "57      호프/통닭        서울특별시 종로구 명륜4가 11-2 \n",
      "58      호프/통닭       서울특별시 종로구 종로3가 132-1 \n",
      "87      호프/통닭  서울특별시 종로구 무악동 89 경희궁 롯데캐슬 \n",
      "...       ...                         ...\n",
      "19841   호프/통닭      서울특별시 종로구 소격동 144-6번지 \n",
      "19843  통닭(치킨)       서울특별시 종로구 명륜2가 184번지 \n",
      "19873   호프/통닭         서울특별시 종로구 통인동 94-1 \n",
      "19885   호프/통닭          서울특별시 종로구 낙원동 232 \n",
      "19977   호프/통닭       서울특별시 종로구 창신동 438-14 \n",
      "\n",
      "[563 rows x 2 columns]\n"
     ]
    }
   ],
   "source": [
    "new_df2 = df[\n",
    "    df['업태구분명'].str.contains('통닭', na=False) &\n",
    "    df['소재지전체주소'].str.contains('종로구', na=False)\n",
    "][['업태구분명', '소재지전체주소']]\n",
    "print(new_df2)"
   ]
  },
  {
   "cell_type": "code",
   "execution_count": 42,
   "id": "4e2adc4b-6f58-40aa-861a-9b4922f41f09",
   "metadata": {},
   "outputs": [],
   "source": [
    "new_df2.to_csv('../resData/치킨집가공2.csv', index=False, encoding='utf-8')"
   ]
  }
 ],
 "metadata": {
  "kernelspec": {
   "display_name": "base",
   "language": "python",
   "name": "base"
  },
  "language_info": {
   "codemirror_mode": {
    "name": "ipython",
    "version": 3
   },
   "file_extension": ".py",
   "mimetype": "text/x-python",
   "name": "python",
   "nbconvert_exporter": "python",
   "pygments_lexer": "ipython3",
   "version": "3.13.2"
  }
 },
 "nbformat": 4,
 "nbformat_minor": 5
}
